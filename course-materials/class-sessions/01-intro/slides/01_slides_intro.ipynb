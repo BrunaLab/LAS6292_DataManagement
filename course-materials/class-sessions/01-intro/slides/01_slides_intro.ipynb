{
  "cells": [
    {
      "cell_type": "raw",
      "metadata": {},
      "source": [
        "---\n",
        "title: \"LAS 6292: Introduction\"\n",
        "format: \n",
        "  revealjs:\n",
        "    # theme: [moon, custom.scss]\n",
        "    # theme: [custom.scss]\n",
        "    theme: [custom.css]\n",
        "    smaller: true \n",
        "    theme: white\n",
        "editor: visual\n",
        "include-in-header:\n",
        "      text: |\n",
        "        <style>\n",
        "        .right {\n",
        "          text-align: right;\n",
        "        }\n",
        "        </style>\n",
        "\n",
        "# text: |\n",
        "#         <style>\n",
        "#         .center-xy {\n",
        "#           margin: 0;\n",
        "#           position: absolute;\n",
        "#           top: 50%;\n",
        "#           left: 50%;\n",
        "#           -ms-transform: translateY(-50%), translateX(-50%);\n",
        "#           transform: translateY(-50%), translateX(-50%);\n",
        "#         }\n",
        "#         </style>\n",
        "# - text: |\n",
        "#     <style>\n",
        "#     #title-slide .title {\n",
        "#       font-size: 4.5em;\n",
        "#       color: #b22222;\n",
        "#     }\n",
        "#     </style>\n",
        "# theme: simple\n",
        "# echo: true\n",
        "---"
      ],
      "id": "2d1145d8"
    },
    {
      "cell_type": "markdown",
      "metadata": {},
      "source": [
        "### INTRODUCTIONS\n",
        "\n",
        "-   Name\n",
        "-   In what city were you born?\n",
        "-   What you consider your \"hometown\"?\n",
        "-   Program and Degree?\n",
        "-   Hobbies or what you do to relax\n",
        "\n",
        "### DISCUSS\n",
        "\n",
        "-   Motivation for taking the class\n",
        "-   Concerns about this class (in particular) and this semester (in general)?\n",
        "-   Big Question on the next slide^[Record all this to report back to the group]"
      ],
      "id": "a95ad3cb"
    },
    {
      "cell_type": "raw",
      "metadata": {},
      "source": [
        "---  \n",
        "\n",
        "<h2 class=\"r-fit-text\">what are</h2>\n",
        "\n",
        "<h1 class=\"r-fit-text\" style=\"color:darkred\">\"DATA\"?</h1>\n",
        "\n",
        "---  "
      ],
      "id": "2566bbf7"
    },
    {
      "cell_type": "markdown",
      "metadata": {},
      "source": [
        "### So then..."
      ],
      "id": "ceab282f"
    },
    {
      "cell_type": "raw",
      "metadata": {},
      "source": [
        "---  \n",
        "\n",
        "<h2 class=\"r-fit-text\">what are</h2>\n",
        "\n",
        "<h1 class=\"r-fit-text\" style=\"color:darkred\">\"DATA\"?</h1>\n",
        "\n",
        "---  "
      ],
      "id": "cae19608"
    },
    {
      "cell_type": "markdown",
      "metadata": {},
      "source": [
        "<img src=\"/slide-images/img1.png\"  height=\"100%\" width=\"100%\">"
      ],
      "id": "82eb2e97"
    },
    {
      "cell_type": "raw",
      "metadata": {},
      "source": [
        "---  \n",
        "\n",
        "<img src=\"/slide-images/img2.png\"  height=\"100%\" width=\"100%\">\n",
        "\n",
        "---  "
      ],
      "id": "79196164"
    },
    {
      "cell_type": "markdown",
      "metadata": {},
      "source": [
        "<img src=\"/slide-images/img3.png\"  height=\"100%\" width=\"100%\">"
      ],
      "id": "31879afa"
    },
    {
      "cell_type": "raw",
      "metadata": {},
      "source": [
        "---  \n",
        "\n",
        "<img src=\"/slide-images/img4.png\"  height=\"100%\" width=\"100%\">\n",
        "\n",
        "--- "
      ],
      "id": "549f6099"
    },
    {
      "cell_type": "markdown",
      "metadata": {},
      "source": [
        "## {.center}\n",
        "\n",
        "<h2 class=\"r-fit-text\">\"Anything you perform analysis on.\"</h2>\n",
        "\n",
        "<section class=\"right\">\n",
        "<h3 style=\"color:darkblue\">*Kristen Briney, p. 6*</h3>\n",
        "</section>\n"
      ],
      "id": "1cdafae8"
    },
    {
      "cell_type": "raw",
      "metadata": {},
      "source": [
        "---\n",
        "\n",
        "### *With that in mind...*\n",
        "\n",
        "\n",
        "\n",
        "1. Identify different kinds of data collected in different disciplines.\n",
        "\n",
        "1. How are these data collected & recorded?\n",
        "\n",
        "<section class=\"right\">\n",
        "<h3 style=\"color:darkblue\">But first...</h3>\n",
        "</section>\n",
        "\n",
        "---"
      ],
      "id": "ed03b0c2"
    },
    {
      "cell_type": "markdown",
      "metadata": {},
      "source": [
        "```{css, echo = FALSE}\n",
        ".center {\n",
        "  text-align: center !important\n",
        "}\n",
        "```\n",
        "\n",
        "\n",
        "\n",
        "\n",
        "::: {.center} \n",
        "\n",
        "asdals;dk. asd\n",
        "asda\n",
        "asda\n",
        "\n",
        ":::\n",
        "\n",
        "\n",
        "\n",
        "_**short answer:** data management might be the most important skill you learn at UF_"
      ],
      "id": "fac999d7"
    },
    {
      "cell_type": "raw",
      "metadata": {},
      "source": [
        "---\n",
        "\n",
        "**Longer answer:** Reason 1\n",
        "\n",
        "<img src=\"/slide-images/img5.png\"  height=\"100%\" width=\"100%\">\n",
        "\n",
        "---"
      ],
      "id": "a7eb6b11"
    },
    {
      "cell_type": "markdown",
      "metadata": {},
      "source": [
        "<img src=\"/slide-images/img6.png\"  height=\"100%\" width=\"100%\">"
      ],
      "id": "75738204"
    },
    {
      "cell_type": "raw",
      "metadata": {},
      "source": [
        "---\n",
        "\n",
        "<img src=\"/slide-images/img7.png\"  height=\"100%\" width=\"100%\">\n",
        "\n",
        "---"
      ],
      "id": "b8e3fa8f"
    },
    {
      "cell_type": "markdown",
      "metadata": {},
      "source": [
        "<img src=\"/slide-images/img8.png\"  height=\"100%\" width=\"100%\">"
      ],
      "id": "c8d86636"
    },
    {
      "cell_type": "raw",
      "metadata": {},
      "source": [
        "---\n",
        "\n",
        "\n",
        "<img src=\"/slide-images/img9.png\"  height=\"100%\" width=\"100%\">\n",
        "\n",
        "---"
      ],
      "id": "7793b804"
    },
    {
      "cell_type": "markdown",
      "metadata": {},
      "source": [
        "<img src=\"/slide-images/img10.png\"  height=\"100%\" width=\"100%\">---"
      ],
      "id": "9caf690e"
    },
    {
      "cell_type": "raw",
      "metadata": {},
      "source": [
        "---\n",
        "\n",
        "<img src=\"/slide-images/img11.png\"  height=\"100%\" width=\"100%\">---\n",
        "\n",
        "---"
      ],
      "id": "ff6025cb"
    },
    {
      "cell_type": "markdown",
      "metadata": {},
      "source": [
        "<img src=\"/slide-images/img12.png\"  height=\"100%\" width=\"100%\">---"
      ],
      "id": "014f02c1"
    },
    {
      "cell_type": "raw",
      "metadata": {},
      "source": [
        "---\n",
        "\n",
        "<img src=\"/slide-images/img13.png\"  height=\"100%\" width=\"100%\">---\n",
        "\n",
        "---"
      ],
      "id": "39295000"
    },
    {
      "cell_type": "markdown",
      "metadata": {},
      "source": [
        "<img src=\"/slide-images/img14.png\"  height=\"100%\" width=\"100%\">"
      ],
      "id": "4cb4821c"
    },
    {
      "cell_type": "raw",
      "metadata": {},
      "source": [
        "---\n",
        "\n",
        "<img src=\"/slide-images/img15.png\"  height=\"100%\" width=\"100%\">\n",
        "\n",
        "---"
      ],
      "id": "63825e53"
    },
    {
      "cell_type": "markdown",
      "metadata": {},
      "source": [
        "<img src=\"/slide-images/img16.png\"  height=\"100%\" width=\"100%\">"
      ],
      "id": "806a7ca6"
    },
    {
      "cell_type": "raw",
      "metadata": {},
      "source": [
        "---\n",
        "\n",
        "**Longer answer:** Reason 2\n",
        "\n",
        "<img src=\"/slide-images/img17.jpg\"  height=\"100%\" width=\"100%\">\n",
        "\n",
        "---"
      ],
      "id": "df03004c"
    },
    {
      "cell_type": "markdown",
      "metadata": {},
      "source": [
        "<img src=\"/slide-images/img18.png\"  height=\"100%\" width=\"100%\">"
      ],
      "id": "6f6694b4"
    },
    {
      "cell_type": "raw",
      "metadata": {},
      "source": [
        "---\n",
        "\n",
        "\n",
        "<img src=\"/slide-images/img19.png\"  height=\"100%\" width=\"100%\">\n",
        "\n",
        "---"
      ],
      "id": "23877f4b"
    },
    {
      "cell_type": "markdown",
      "metadata": {},
      "source": [
        "<img src=\"/slide-images/img20.png\"  height=\"100%\" width=\"100%\">\n",
        "\n",
        "### Putz, F.E., Biotropica, 1983 \n",
        "#### _(courtesy of FE Putz)_"
      ],
      "id": "e7f0577d"
    },
    {
      "cell_type": "raw",
      "metadata": {},
      "source": [
        "---\n",
        "\n",
        "# {.center}\n",
        "\n",
        "<h4 style=\"color:darkblue\">*With that in mind...*</h4>\n",
        "\n",
        "<h3 style=\"color:black\">1. Identify different kinds of data collected in different disciplines.</h3>\n",
        "\n",
        "<h3 style=\"color:black\">2. How are these data collected & recorded?</h3>\n",
        "\n",
        "<section class=\"right\">\n",
        "<h6 style=\"color:darkblue\">*(also...time for a break!)*</h6>\n",
        "</section>\n",
        "\n",
        "---"
      ],
      "id": "5df390aa"
    },
    {
      "cell_type": "markdown",
      "metadata": {},
      "source": [
        "<img src=\"/slide-images/img21.png\"  height=\"100%\" width=\"100%\">"
      ],
      "id": "95926f41"
    },
    {
      "cell_type": "raw",
      "metadata": {},
      "source": [
        "---\n",
        "\n",
        "\n",
        "<img src=\"/slide-images/img22.png\"  height=\"100%\" width=\"100%\">\n",
        "\n",
        "---"
      ],
      "id": "53a7e51c"
    },
    {
      "cell_type": "markdown",
      "metadata": {},
      "source": [
        "<img src=\"/slide-images/img23.png\"  height=\"100%\" width=\"100%\">"
      ],
      "id": "ea2d7659"
    },
    {
      "cell_type": "raw",
      "metadata": {},
      "source": [
        "---\n",
        "\n",
        "\n",
        "::: columns\n",
        "::: {.column width=\"40%\"}\n",
        "![](./slide-images/chase-moyer-wRcwv-z6RDY-unsplash.png)\n",
        ":::\n",
        "\n",
        "::: {.column width=\"60%\"}\n",
        "**Before Class**  \n",
        "\n",
        "_Read, Watch, Reflect_\n",
        "\n",
        "<br>\n",
        "\n",
        "**During Class**  \n",
        "\n",
        "_Exercises to Reinforce_. \n",
        "\n",
        "_Discuss Readings_. \n",
        "\n",
        "_Work on Individual Project._\n",
        ":::\n",
        "\n",
        ":::\n",
        "\n",
        "---"
      ],
      "id": "a496abc2"
    },
    {
      "cell_type": "markdown",
      "metadata": {},
      "source": [
        "## Let’s find out a little more…\n",
        "\n",
        "### _In-Class Exercise Wk. 1 _"
      ],
      "id": "4183b92d"
    },
    {
      "cell_type": "markdown",
      "metadata": {},
      "source": [
        "---"
      ],
      "id": "3f22c949"
    }
  ],
  "metadata": {
    "kernelspec": {
      "display_name": "Python 3",
      "language": "python",
      "name": "python3"
    }
  },
  "nbformat": 4,
  "nbformat_minor": 5
}